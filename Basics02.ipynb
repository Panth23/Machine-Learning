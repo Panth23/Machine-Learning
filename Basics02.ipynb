{
  "nbformat": 4,
  "nbformat_minor": 0,
  "metadata": {
    "colab": {
      "provenance": [],
      "collapsed_sections": [
        "DJ2Ulw1UwoZL"
      ],
      "authorship_tag": "ABX9TyP9G13Pyq4uWofzh8xvMBC0",
      "include_colab_link": true
    },
    "kernelspec": {
      "name": "python3",
      "display_name": "Python 3"
    },
    "language_info": {
      "name": "python"
    }
  },
  "cells": [
    {
      "cell_type": "markdown",
      "metadata": {
        "id": "view-in-github",
        "colab_type": "text"
      },
      "source": [
        "<a href=\"https://colab.research.google.com/github/Panth23/Machine-Learning/blob/main/Basics02.ipynb\" target=\"_parent\"><img src=\"https://colab.research.google.com/assets/colab-badge.svg\" alt=\"Open In Colab\"/></a>"
      ]
    },
    {
      "cell_type": "markdown",
      "source": [
        "Programming Lnaguages Used for Machine Learning:\n"
      ],
      "metadata": {
        "id": "drEuJQE_wTzA"
      }
    },
    {
      "cell_type": "markdown",
      "source": [
        " 1.Python"
      ],
      "metadata": {
        "id": "2iikzM1kwhq9"
      }
    },
    {
      "cell_type": "markdown",
      "source": [
        "  2.R"
      ],
      "metadata": {
        "id": "i1TWdWAdwkfo"
      }
    },
    {
      "cell_type": "markdown",
      "source": [
        "#print function"
      ],
      "metadata": {
        "id": "DJ2Ulw1UwoZL"
      }
    },
    {
      "cell_type": "code",
      "execution_count": 1,
      "metadata": {
        "colab": {
          "base_uri": "https://localhost:8080/"
        },
        "id": "0kwAGa_8wNbw",
        "outputId": "b5e30d1c-efc2-414e-fa2c-a79ad2974e5b"
      },
      "outputs": [
        {
          "output_type": "stream",
          "name": "stdout",
          "text": [
            "Machine Learning\n"
          ]
        }
      ],
      "source": [
        "print('Machine Learning')"
      ]
    },
    {
      "cell_type": "code",
      "source": [
        "print('Machine Learning '+ \"Projects\")"
      ],
      "metadata": {
        "colab": {
          "base_uri": "https://localhost:8080/"
        },
        "id": "D-iQKkQQwt2f",
        "outputId": "f44caf62-4098-4819-8f0f-7dbd22ccadd0"
      },
      "execution_count": 2,
      "outputs": [
        {
          "output_type": "stream",
          "name": "stdout",
          "text": [
            "Machine Learning Projects\n"
          ]
        }
      ]
    },
    {
      "cell_type": "code",
      "source": [
        "print(8)"
      ],
      "metadata": {
        "colab": {
          "base_uri": "https://localhost:8080/"
        },
        "id": "UtwMMLqmw3Oi",
        "outputId": "d7051f45-b58c-4359-ce21-de6481e809f2"
      },
      "execution_count": 3,
      "outputs": [
        {
          "output_type": "stream",
          "name": "stdout",
          "text": [
            "8\n"
          ]
        }
      ]
    },
    {
      "cell_type": "code",
      "source": [],
      "metadata": {
        "id": "KVdxPRKTy6cB"
      },
      "execution_count": null,
      "outputs": []
    },
    {
      "cell_type": "code",
      "source": [
        "print(8+3)"
      ],
      "metadata": {
        "colab": {
          "base_uri": "https://localhost:8080/"
        },
        "id": "Vu_XY-sdw8bU",
        "outputId": "07b3412b-54bc-42e6-812f-8a86eced6bc8"
      },
      "execution_count": 5,
      "outputs": [
        {
          "output_type": "stream",
          "name": "stdout",
          "text": [
            "11\n"
          ]
        }
      ]
    },
    {
      "cell_type": "markdown",
      "source": [
        "#Data types"
      ],
      "metadata": {
        "id": "htWUeYPPyUNQ"
      }
    },
    {
      "cell_type": "code",
      "source": [
        "type(6)"
      ],
      "metadata": {
        "colab": {
          "base_uri": "https://localhost:8080/"
        },
        "id": "MRf82U9txAy0",
        "outputId": "4978ccc2-02ca-468d-857f-76e718093324"
      },
      "execution_count": 7,
      "outputs": [
        {
          "output_type": "execute_result",
          "data": {
            "text/plain": [
              "int"
            ]
          },
          "metadata": {},
          "execution_count": 7
        }
      ]
    },
    {
      "cell_type": "code",
      "source": [
        "type('patel')"
      ],
      "metadata": {
        "colab": {
          "base_uri": "https://localhost:8080/"
        },
        "id": "-XEvoJIXygIt",
        "outputId": "d9fea272-f218-4650-f234-3202c6723459"
      },
      "execution_count": 8,
      "outputs": [
        {
          "output_type": "execute_result",
          "data": {
            "text/plain": [
              "str"
            ]
          },
          "metadata": {},
          "execution_count": 8
        }
      ]
    },
    {
      "cell_type": "code",
      "source": [
        "type(5.5)"
      ],
      "metadata": {
        "colab": {
          "base_uri": "https://localhost:8080/"
        },
        "id": "KS58jh0QyqPA",
        "outputId": "d65ff196-97b6-45e9-a307-f33981efe456"
      },
      "execution_count": 9,
      "outputs": [
        {
          "output_type": "execute_result",
          "data": {
            "text/plain": [
              "float"
            ]
          },
          "metadata": {},
          "execution_count": 9
        }
      ]
    },
    {
      "cell_type": "code",
      "source": [],
      "metadata": {
        "id": "fScG2wTPysdz"
      },
      "execution_count": null,
      "outputs": []
    },
    {
      "cell_type": "markdown",
      "source": [
        "#Constatnts and Variables"
      ],
      "metadata": {
        "id": "GHNi23UPzR8d"
      }
    },
    {
      "cell_type": "code",
      "source": [
        "super_hero=\"Iron Man\""
      ],
      "metadata": {
        "id": "Z-W5UQNlzWZp"
      },
      "execution_count": 10,
      "outputs": []
    },
    {
      "cell_type": "code",
      "source": [
        "hero1,hero2,hero3  = \"Iron Man\",\"Thor\",\"Captain America\""
      ],
      "metadata": {
        "id": "l12uaFxOze_A"
      },
      "execution_count": 1,
      "outputs": []
    },
    {
      "cell_type": "code",
      "source": [
        "print(hero1)\n",
        "print(hero2)\n",
        "print(hero3)"
      ],
      "metadata": {
        "colab": {
          "base_uri": "https://localhost:8080/"
        },
        "id": "60wZRSjBvI09",
        "outputId": "4551ecf6-29ba-4c6f-8135-69f42af79b92"
      },
      "execution_count": 2,
      "outputs": [
        {
          "output_type": "stream",
          "name": "stdout",
          "text": [
            "Iron Man\n",
            "Thor\n",
            "Captain America\n"
          ]
        }
      ]
    },
    {
      "cell_type": "code",
      "source": [
        "x=y=z=23\n",
        "print(x)\n",
        "print(y)\n",
        "print(z)"
      ],
      "metadata": {
        "colab": {
          "base_uri": "https://localhost:8080/"
        },
        "id": "BT-S1O0AvTo9",
        "outputId": "2b081346-3dbb-4816-cfe9-5d60d9be170c"
      },
      "execution_count": 3,
      "outputs": [
        {
          "output_type": "stream",
          "name": "stdout",
          "text": [
            "23\n",
            "23\n",
            "23\n"
          ]
        }
      ]
    },
    {
      "cell_type": "markdown",
      "source": [
        "#Input Function"
      ],
      "metadata": {
        "id": "YaUaDKG5zzGP"
      }
    },
    {
      "cell_type": "code",
      "source": [
        "number_1 = input(\"Enter the first number: \")\n",
        "number_2 = input(\"Enter the second number: \")\n",
        "\n",
        "sum = number_1+number_2\n",
        "print(sum)"
      ],
      "metadata": {
        "colab": {
          "base_uri": "https://localhost:8080/"
        },
        "id": "scXVnBcTwfns",
        "outputId": "7ee07df2-5d5b-485b-e2ee-df7bc89d6b8a"
      },
      "execution_count": 6,
      "outputs": [
        {
          "output_type": "stream",
          "name": "stdout",
          "text": [
            "Enter the first number: 23\n",
            "Enter the second number: 23\n",
            "2323\n"
          ]
        }
      ]
    },
    {
      "cell_type": "code",
      "source": [
        "num = 5\n",
        "print(float(num))"
      ],
      "metadata": {
        "colab": {
          "base_uri": "https://localhost:8080/"
        },
        "id": "AeNGIfL5yrkO",
        "outputId": "7389eef8-d890-4b05-d20a-ca9f875d1c33"
      },
      "execution_count": 7,
      "outputs": [
        {
          "output_type": "stream",
          "name": "stdout",
          "text": [
            "5.0\n"
          ]
        }
      ]
    },
    {
      "cell_type": "markdown",
      "source": [
        "Basic Data Types in Python:"
      ],
      "metadata": {
        "id": "7NLykRdy07tb"
      }
    },
    {
      "cell_type": "markdown",
      "source": [
        "1.Integer"
      ],
      "metadata": {
        "id": "bxBEhmcS1KRl"
      }
    },
    {
      "cell_type": "markdown",
      "source": [
        "2.Floating Points"
      ],
      "metadata": {
        "id": "MuGvsOpN1R9f"
      }
    },
    {
      "cell_type": "markdown",
      "source": [
        "3.Complex"
      ],
      "metadata": {
        "id": "56vgoQUx1WXo"
      }
    },
    {
      "cell_type": "markdown",
      "source": [
        "4.Boolean"
      ],
      "metadata": {
        "id": "G1pDzTFL1YU0"
      }
    },
    {
      "cell_type": "markdown",
      "source": [
        "5.String"
      ],
      "metadata": {
        "id": "BkHuJT2J1ayY"
      }
    },
    {
      "cell_type": "code",
      "source": [
        "# complex number\n",
        "c = 1 + 3j\n",
        "print(c)\n",
        "type(c)"
      ],
      "metadata": {
        "colab": {
          "base_uri": "https://localhost:8080/"
        },
        "id": "YVmkPfRf0IoF",
        "outputId": "1138d696-6aa2-4a20-aa7c-631e031b96a0"
      },
      "execution_count": 8,
      "outputs": [
        {
          "output_type": "stream",
          "name": "stdout",
          "text": [
            "(1+3j)\n"
          ]
        },
        {
          "output_type": "execute_result",
          "data": {
            "text/plain": [
              "complex"
            ]
          },
          "metadata": {},
          "execution_count": 8
        }
      ]
    },
    {
      "cell_type": "markdown",
      "source": [
        "Conversion Of One type of Data to another"
      ],
      "metadata": {
        "id": "NXEp79_F1_sm"
      }
    },
    {
      "cell_type": "code",
      "source": [
        "y = 5.5\n",
        "print(y)\n",
        "type(y)"
      ],
      "metadata": {
        "colab": {
          "base_uri": "https://localhost:8080/"
        },
        "id": "nYDW1bvY12q1",
        "outputId": "d3cae89c-6df5-47c7-f667-56010da05c69"
      },
      "execution_count": 4,
      "outputs": [
        {
          "output_type": "stream",
          "name": "stdout",
          "text": [
            "5.5\n"
          ]
        },
        {
          "output_type": "execute_result",
          "data": {
            "text/plain": [
              "float"
            ]
          },
          "metadata": {},
          "execution_count": 4
        }
      ]
    },
    {
      "cell_type": "code",
      "source": [
        "x = int(y)\n",
        "print(x)\n",
        "type(x)"
      ],
      "metadata": {
        "colab": {
          "base_uri": "https://localhost:8080/"
        },
        "id": "9zBT9LC-4TxJ",
        "outputId": "9bd3b5cc-1628-4745-da77-e3800468f873"
      },
      "execution_count": 5,
      "outputs": [
        {
          "output_type": "stream",
          "name": "stdout",
          "text": [
            "5\n"
          ]
        },
        {
          "output_type": "execute_result",
          "data": {
            "text/plain": [
              "int"
            ]
          },
          "metadata": {},
          "execution_count": 5
        }
      ]
    },
    {
      "cell_type": "markdown",
      "source": [
        "Boolean"
      ],
      "metadata": {
        "id": "Ila6U3C25DEO"
      }
    },
    {
      "cell_type": "code",
      "source": [
        "a = True\n",
        "print(a)\n",
        "type(a)"
      ],
      "metadata": {
        "colab": {
          "base_uri": "https://localhost:8080/"
        },
        "id": "HD-xj99-4m9a",
        "outputId": "bed81416-b886-4ca1-d10d-3d41fd6c1da2"
      },
      "execution_count": 7,
      "outputs": [
        {
          "output_type": "stream",
          "name": "stdout",
          "text": [
            "True\n"
          ]
        },
        {
          "output_type": "execute_result",
          "data": {
            "text/plain": [
              "bool"
            ]
          },
          "metadata": {},
          "execution_count": 7
        }
      ]
    },
    {
      "cell_type": "code",
      "source": [
        "b = False\n",
        "print(b)\n",
        "type(b)"
      ],
      "metadata": {
        "colab": {
          "base_uri": "https://localhost:8080/"
        },
        "id": "NbWXaVzv5IzF",
        "outputId": "a4a34bde-f936-4d64-8197-e7087a8d4ef6"
      },
      "execution_count": 8,
      "outputs": [
        {
          "output_type": "stream",
          "name": "stdout",
          "text": [
            "False\n"
          ]
        },
        {
          "output_type": "execute_result",
          "data": {
            "text/plain": [
              "bool"
            ]
          },
          "metadata": {},
          "execution_count": 8
        }
      ]
    },
    {
      "cell_type": "code",
      "source": [
        "a = 7<3\n",
        "print(a)\n",
        "type(a)"
      ],
      "metadata": {
        "colab": {
          "base_uri": "https://localhost:8080/"
        },
        "id": "TDIcjWJ25S4V",
        "outputId": "5a4fcb43-a944-4c05-fe40-0e897c1c4995"
      },
      "execution_count": 9,
      "outputs": [
        {
          "output_type": "stream",
          "name": "stdout",
          "text": [
            "False\n"
          ]
        },
        {
          "output_type": "execute_result",
          "data": {
            "text/plain": [
              "bool"
            ]
          },
          "metadata": {},
          "execution_count": 9
        }
      ]
    },
    {
      "cell_type": "markdown",
      "source": [
        "String"
      ],
      "metadata": {
        "id": "xSy2px8k5c4D"
      }
    },
    {
      "cell_type": "code",
      "source": [
        "print(\"Machine Learning\")"
      ],
      "metadata": {
        "colab": {
          "base_uri": "https://localhost:8080/"
        },
        "id": "oW8Cs3ZL5Yev",
        "outputId": "a4a32691-209c-47f9-d565-d0f559cb7240"
      },
      "execution_count": 10,
      "outputs": [
        {
          "output_type": "stream",
          "name": "stdout",
          "text": [
            "Machine Learning\n"
          ]
        }
      ]
    },
    {
      "cell_type": "markdown",
      "source": [
        "Slicing"
      ],
      "metadata": {
        "id": "Fn1b4nSn6sGV"
      }
    },
    {
      "cell_type": "code",
      "source": [
        "my_string = \"Programming\"\n",
        "print(my_string[1:5]) #index from index 1 till 5-1 will be sliced"
      ],
      "metadata": {
        "colab": {
          "base_uri": "https://localhost:8080/"
        },
        "id": "6Pu4cglZ5f36",
        "outputId": "d379c8c7-193c-4925-d317-bf40f2952cc2"
      },
      "execution_count": 14,
      "outputs": [
        {
          "output_type": "stream",
          "name": "stdout",
          "text": [
            "rogr\n"
          ]
        }
      ]
    },
    {
      "cell_type": "code",
      "source": [
        "print(my_string[0:5])"
      ],
      "metadata": {
        "colab": {
          "base_uri": "https://localhost:8080/"
        },
        "id": "JWqaBGcR65Me",
        "outputId": "a1426c43-41fd-44f2-cbda-b8ffddc756f5"
      },
      "execution_count": 12,
      "outputs": [
        {
          "output_type": "stream",
          "name": "stdout",
          "text": [
            "Progr\n"
          ]
        }
      ]
    },
    {
      "cell_type": "code",
      "source": [
        "print(my_string[0:10:2]) # 0:10:2 in which 0 is the starting index 10 is the stop point i.e. 10-1 will be sliced and 2 represents the gap/interval"
      ],
      "metadata": {
        "colab": {
          "base_uri": "https://localhost:8080/"
        },
        "id": "CP5RP4kC7CZz",
        "outputId": "e5e90187-b2de-4094-d228-9a5185b2561e"
      },
      "execution_count": 16,
      "outputs": [
        {
          "output_type": "stream",
          "name": "stdout",
          "text": [
            "Pormi\n"
          ]
        }
      ]
    },
    {
      "cell_type": "markdown",
      "source": [
        "String Concatenation"
      ],
      "metadata": {
        "id": "JI4th-GR7yNa"
      }
    },
    {
      "cell_type": "code",
      "source": [
        "word_1 = 'Machine'\n",
        "word_2 = 'Learning'\n",
        "\n",
        "print(word_1+word_2)"
      ],
      "metadata": {
        "colab": {
          "base_uri": "https://localhost:8080/"
        },
        "id": "_60uc3Df7H6u",
        "outputId": "d5561617-3cee-457c-d0da-92285baa3a86"
      },
      "execution_count": 18,
      "outputs": [
        {
          "output_type": "stream",
          "name": "stdout",
          "text": [
            "MachineLearning\n"
          ]
        }
      ]
    },
    {
      "cell_type": "code",
      "source": [],
      "metadata": {
        "id": "eQaJhkJY783k"
      },
      "execution_count": null,
      "outputs": []
    }
  ]
}