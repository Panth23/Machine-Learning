{
  "nbformat": 4,
  "nbformat_minor": 0,
  "metadata": {
    "colab": {
      "provenance": [],
      "authorship_tag": "ABX9TyMuiMZSZRj8r5wtonvGJF37",
      "include_colab_link": true
    },
    "kernelspec": {
      "name": "python3",
      "display_name": "Python 3"
    },
    "language_info": {
      "name": "python"
    }
  },
  "cells": [
    {
      "cell_type": "markdown",
      "metadata": {
        "id": "view-in-github",
        "colab_type": "text"
      },
      "source": [
        "<a href=\"https://colab.research.google.com/github/Panth23/Machine-Learning/blob/main/Functions.ipynb\" target=\"_parent\"><img src=\"https://colab.research.google.com/assets/colab-badge.svg\" alt=\"Open In Colab\"/></a>"
      ]
    },
    {
      "cell_type": "markdown",
      "source": [
        "Factorial of a number"
      ],
      "metadata": {
        "id": "n3GLepbRLLNA"
      }
    },
    {
      "cell_type": "code",
      "execution_count": 2,
      "metadata": {
        "colab": {
          "base_uri": "https://localhost:8080/"
        },
        "id": "79gqrE9yKVmd",
        "outputId": "3c3eb420-29ca-4e7f-96cc-b32366441862"
      },
      "outputs": [
        {
          "output_type": "stream",
          "name": "stdout",
          "text": [
            "Enter a number to find out its factorial5\n",
            "The factorial of  5  is =  120\n"
          ]
        }
      ],
      "source": [
        "number = int(input(\"Enter a number to find out its factorial\"))\n",
        "\n",
        "factorial = 1\n",
        "if number == 0:\n",
        "  print(\"The factorial of 0 is 1\")\n",
        "else:\n",
        "  for i in range(1,number+1):\n",
        "    factorial *=i\n",
        "  print(\"The factorial of \", number, \" is = \",factorial)"
      ]
    },
    {
      "cell_type": "code",
      "source": [
        "def factorial_value(num):\n",
        "  factorial = 1\n",
        "  if num == 0:\n",
        "    return factorial\n",
        "  else:\n",
        "    for i in range(1,number+1):\n",
        "      factorial *= i\n",
        "    return factorial\n"
      ],
      "metadata": {
        "id": "19_K5CElLYgL"
      },
      "execution_count": 3,
      "outputs": []
    },
    {
      "cell_type": "code",
      "source": [
        "print(factorial_value(5))"
      ],
      "metadata": {
        "colab": {
          "base_uri": "https://localhost:8080/"
        },
        "id": "kn6NJFwCNPrC",
        "outputId": "ad25f9e3-02ed-4f10-880c-8a8c069cac41"
      },
      "execution_count": 4,
      "outputs": [
        {
          "output_type": "stream",
          "name": "stdout",
          "text": [
            "120\n"
          ]
        }
      ]
    },
    {
      "cell_type": "code",
      "source": [],
      "metadata": {
        "id": "FoWKM4z9NS2L"
      },
      "execution_count": null,
      "outputs": []
    }
  ]
}