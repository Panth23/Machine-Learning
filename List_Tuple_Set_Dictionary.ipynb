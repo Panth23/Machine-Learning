{
  "nbformat": 4,
  "nbformat_minor": 0,
  "metadata": {
    "colab": {
      "provenance": [],
      "authorship_tag": "ABX9TyNN4bjHdDtahLBYPsX9fPpu",
      "include_colab_link": true
    },
    "kernelspec": {
      "name": "python3",
      "display_name": "Python 3"
    },
    "language_info": {
      "name": "python"
    }
  },
  "cells": [
    {
      "cell_type": "markdown",
      "metadata": {
        "id": "view-in-github",
        "colab_type": "text"
      },
      "source": [
        "<a href=\"https://colab.research.google.com/github/Panth23/Machine-Learning/blob/main/List_Tuple_Set_Dictionary.ipynb\" target=\"_parent\"><img src=\"https://colab.research.google.com/assets/colab-badge.svg\" alt=\"Open In Colab\"/></a>"
      ]
    },
    {
      "cell_type": "markdown",
      "source": [
        "List []"
      ],
      "metadata": {
        "id": "687BNaQ1826Q"
      }
    },
    {
      "cell_type": "code",
      "execution_count": 2,
      "metadata": {
        "colab": {
          "base_uri": "https://localhost:8080/"
        },
        "id": "iTAa0TL88mHP",
        "outputId": "1b10ceb0-52c0-4781-ea44-6a16d0648764"
      },
      "outputs": [
        {
          "output_type": "stream",
          "name": "stdout",
          "text": [
            "[1, 2, 3, 4, 5]\n"
          ]
        },
        {
          "output_type": "execute_result",
          "data": {
            "text/plain": [
              "list"
            ]
          },
          "metadata": {},
          "execution_count": 2
        }
      ],
      "source": [
        "#list should be enclosed in square brackets\n",
        "my_list = [1,2,3,4,5]\n",
        "print(my_list)\n",
        "type(my_list)"
      ]
    },
    {
      "cell_type": "code",
      "source": [
        "# lists can have muliple data types\n",
        "my_list = [2,3,1.8,\"English\",True]\n",
        "print(my_list)"
      ],
      "metadata": {
        "colab": {
          "base_uri": "https://localhost:8080/"
        },
        "id": "27mjmB7P89Xe",
        "outputId": "329fba77-8c7c-4b1a-d9ca-017173529485"
      },
      "execution_count": 4,
      "outputs": [
        {
          "output_type": "stream",
          "name": "stdout",
          "text": [
            "[2, 3, 1.8, 'English', True]\n"
          ]
        }
      ]
    },
    {
      "cell_type": "markdown",
      "source": [
        "List are Mutable --> Changable"
      ],
      "metadata": {
        "id": "qLKVIGJS9k0w"
      }
    },
    {
      "cell_type": "code",
      "source": [
        "# add elements to a list\n",
        "my_list = [2,3,1.8,\"English\",True]\n",
        "my_list.append(6)\n",
        "print(my_list)"
      ],
      "metadata": {
        "colab": {
          "base_uri": "https://localhost:8080/"
        },
        "id": "Lh0C_UvO9fnP",
        "outputId": "0a7c674b-834c-4cb5-86a7-267e37048f7d"
      },
      "execution_count": 6,
      "outputs": [
        {
          "output_type": "stream",
          "name": "stdout",
          "text": [
            "[2, 3, 1.8, 'English', True, 6]\n"
          ]
        }
      ]
    },
    {
      "cell_type": "code",
      "source": [
        "#printing list elements by their index\n",
        "print(my_list[0])\n",
        "print(my_list[4])"
      ],
      "metadata": {
        "colab": {
          "base_uri": "https://localhost:8080/"
        },
        "id": "3T7nZWrK9vp9",
        "outputId": "82153fc7-2e23-41d0-fb3e-d68feaff354e"
      },
      "execution_count": 7,
      "outputs": [
        {
          "output_type": "stream",
          "name": "stdout",
          "text": [
            "2\n",
            "True\n"
          ]
        }
      ]
    },
    {
      "cell_type": "code",
      "source": [
        "#list allow duplicate values\n",
        "list_1 = [1,2,3,4,5,3,2,1,2]\n",
        "print(list_1)"
      ],
      "metadata": {
        "colab": {
          "base_uri": "https://localhost:8080/"
        },
        "id": "v50kdMenATJC",
        "outputId": "0dcc5250-8d0c-4407-e83f-8d259c799a9f"
      },
      "execution_count": 8,
      "outputs": [
        {
          "output_type": "stream",
          "name": "stdout",
          "text": [
            "[1, 2, 3, 4, 5, 3, 2, 1, 2]\n"
          ]
        }
      ]
    },
    {
      "cell_type": "code",
      "source": [
        "#length of a list\n",
        "print(len(list_1))"
      ],
      "metadata": {
        "colab": {
          "base_uri": "https://localhost:8080/"
        },
        "id": "faXD4eVLAdbT",
        "outputId": "6141c49e-087a-4961-d1ca-2c925e0b067c"
      },
      "execution_count": 10,
      "outputs": [
        {
          "output_type": "stream",
          "name": "stdout",
          "text": [
            "9\n"
          ]
        }
      ]
    },
    {
      "cell_type": "code",
      "source": [
        "# initiating an empty list\n",
        "list_2 = []\n",
        "print(list_2)"
      ],
      "metadata": {
        "colab": {
          "base_uri": "https://localhost:8080/"
        },
        "id": "PqOz1sAyAiVQ",
        "outputId": "560edaae-1fe8-45b5-c50b-2c39f31ab9b2"
      },
      "execution_count": 12,
      "outputs": [
        {
          "output_type": "stream",
          "name": "stdout",
          "text": [
            "[]\n"
          ]
        }
      ]
    },
    {
      "cell_type": "code",
      "source": [
        "list_2.append(5)\n",
        "print(list_2)"
      ],
      "metadata": {
        "colab": {
          "base_uri": "https://localhost:8080/"
        },
        "id": "UnFs-Q1mAqOo",
        "outputId": "3e41ea68-8863-474b-e74a-aabcbc517098"
      },
      "execution_count": 14,
      "outputs": [
        {
          "output_type": "stream",
          "name": "stdout",
          "text": [
            "[5, 5]\n"
          ]
        }
      ]
    },
    {
      "cell_type": "code",
      "source": [
        "#deleting an item\n",
        "list_1 = [1,2,3,4,5,3,2,1,2]\n",
        "print(list_1)\n",
        "\n",
        "del list_1[2]\n",
        "print(list_1)"
      ],
      "metadata": {
        "colab": {
          "base_uri": "https://localhost:8080/"
        },
        "id": "wuTYt5RtA1gC",
        "outputId": "6e01ace2-0326-4b9d-adb8-f6922734a498"
      },
      "execution_count": 15,
      "outputs": [
        {
          "output_type": "stream",
          "name": "stdout",
          "text": [
            "[1, 2, 3, 4, 5, 3, 2, 1, 2]\n",
            "[1, 2, 4, 5, 3, 2, 1, 2]\n"
          ]
        }
      ]
    },
    {
      "cell_type": "code",
      "source": [
        "#join two list\n",
        "list_3 = [1,2,3,4,5,6]\n",
        "list_4 = [7,8,9,10]\n",
        "list_5 = list_3+list_4\n",
        "\n",
        "print(list_5)"
      ],
      "metadata": {
        "colab": {
          "base_uri": "https://localhost:8080/"
        },
        "id": "AKrFRkQABL0s",
        "outputId": "9cfd495f-7f39-438a-c3b3-60c9cc3cb5c9"
      },
      "execution_count": 16,
      "outputs": [
        {
          "output_type": "stream",
          "name": "stdout",
          "text": [
            "[1, 2, 3, 4, 5, 6, 7, 8, 9, 10]\n"
          ]
        }
      ]
    },
    {
      "cell_type": "markdown",
      "source": [
        "Tuples ()\n"
      ],
      "metadata": {
        "id": "bxgZq2UuGP0R"
      }
    },
    {
      "cell_type": "code",
      "source": [
        "tuple_1  = (2,43,4,5)\n",
        "print(tuple_1)\n",
        "type(tuple_1)"
      ],
      "metadata": {
        "colab": {
          "base_uri": "https://localhost:8080/"
        },
        "id": "wL_EcR59GOG3",
        "outputId": "09922bdb-1971-4040-c841-6b4774212d47"
      },
      "execution_count": 18,
      "outputs": [
        {
          "output_type": "stream",
          "name": "stdout",
          "text": [
            "(2, 43, 4, 5)\n"
          ]
        },
        {
          "output_type": "execute_result",
          "data": {
            "text/plain": [
              "tuple"
            ]
          },
          "metadata": {},
          "execution_count": 18
        }
      ]
    },
    {
      "cell_type": "code",
      "source": [
        "#we can have mutliple datatypes in it\n",
        "tuple_2 = (1,23,4,True,\"Patel\")\n",
        "print(tuple_2)"
      ],
      "metadata": {
        "colab": {
          "base_uri": "https://localhost:8080/"
        },
        "id": "jSFXYsFBGYVC",
        "outputId": "7778d920-91c5-42d7-dca9-78f70ad0c99b"
      },
      "execution_count": 20,
      "outputs": [
        {
          "output_type": "stream",
          "name": "stdout",
          "text": [
            "(1, 23, 4, True, 'Patel')\n"
          ]
        }
      ]
    },
    {
      "cell_type": "code",
      "source": [
        "# converting a list to tuple\n",
        "my_list = [3,4,5,6]\n",
        "print(my_list)\n",
        "\n",
        "my_tuple = tuple(my_list)\n",
        "print(my_tuple)"
      ],
      "metadata": {
        "colab": {
          "base_uri": "https://localhost:8080/"
        },
        "id": "5oWHQ6YDGrEb",
        "outputId": "0dcba74c-0309-4851-fa8d-4d80fbb96729"
      },
      "execution_count": 21,
      "outputs": [
        {
          "output_type": "stream",
          "name": "stdout",
          "text": [
            "[3, 4, 5, 6]\n",
            "(3, 4, 5, 6)\n"
          ]
        }
      ]
    },
    {
      "cell_type": "markdown",
      "source": [
        "Tuple are immutable i.e Uncahngable"
      ],
      "metadata": {
        "id": "2itHY29AHZJo"
      }
    },
    {
      "cell_type": "code",
      "source": [
        "#we cannot append in tupple\n",
        "my_tuple.append(2)\n"
      ],
      "metadata": {
        "colab": {
          "base_uri": "https://localhost:8080/",
          "height": 159
        },
        "id": "ZCPwFm2EG8_j",
        "outputId": "59df774c-6dad-4568-aed2-be01afd15a57"
      },
      "execution_count": 22,
      "outputs": [
        {
          "output_type": "error",
          "ename": "AttributeError",
          "evalue": "'tuple' object has no attribute 'append'",
          "traceback": [
            "\u001b[0;31m---------------------------------------------------------------------------\u001b[0m",
            "\u001b[0;31mAttributeError\u001b[0m                            Traceback (most recent call last)",
            "\u001b[0;32m<ipython-input-22-c638fdff067d>\u001b[0m in \u001b[0;36m<cell line: 2>\u001b[0;34m()\u001b[0m\n\u001b[1;32m      1\u001b[0m \u001b[0;31m#we cannot append in tupple\u001b[0m\u001b[0;34m\u001b[0m\u001b[0;34m\u001b[0m\u001b[0m\n\u001b[0;32m----> 2\u001b[0;31m \u001b[0mmy_tuple\u001b[0m\u001b[0;34m.\u001b[0m\u001b[0mappend\u001b[0m\u001b[0;34m(\u001b[0m\u001b[0;36m2\u001b[0m\u001b[0;34m)\u001b[0m\u001b[0;34m\u001b[0m\u001b[0;34m\u001b[0m\u001b[0m\n\u001b[0m",
            "\u001b[0;31mAttributeError\u001b[0m: 'tuple' object has no attribute 'append'"
          ]
        }
      ]
    },
    {
      "cell_type": "code",
      "source": [
        "#length in tuple\n",
        "print(len(my_tuple))"
      ],
      "metadata": {
        "colab": {
          "base_uri": "https://localhost:8080/"
        },
        "id": "Zck16Hk-Iwwd",
        "outputId": "c1b5ad50-f7ac-43f2-c771-18010078568f"
      },
      "execution_count": 23,
      "outputs": [
        {
          "output_type": "stream",
          "name": "stdout",
          "text": [
            "4\n"
          ]
        }
      ]
    },
    {
      "cell_type": "markdown",
      "source": [
        "Set {}"
      ],
      "metadata": {
        "id": "pAeoAVkpJ2o5"
      }
    },
    {
      "cell_type": "code",
      "source": [
        "my_set = {1,2,3,4}\n",
        "print(my_set)\n",
        "type(my_set)\n"
      ],
      "metadata": {
        "colab": {
          "base_uri": "https://localhost:8080/"
        },
        "id": "j5M-oZwGJ1iU",
        "outputId": "8993df06-3034-457c-e08d-ed436d3d5824"
      },
      "execution_count": 24,
      "outputs": [
        {
          "output_type": "stream",
          "name": "stdout",
          "text": [
            "{1, 2, 3, 4}\n"
          ]
        },
        {
          "output_type": "execute_result",
          "data": {
            "text/plain": [
              "set"
            ]
          },
          "metadata": {},
          "execution_count": 24
        }
      ]
    },
    {
      "cell_type": "code",
      "source": [
        "#set does not support indexing\n",
        "print(my_set[2])"
      ],
      "metadata": {
        "colab": {
          "base_uri": "https://localhost:8080/",
          "height": 159
        },
        "id": "gfWApjpOKGUd",
        "outputId": "b2c5c2e3-39fc-4c81-e258-967e607220fd"
      },
      "execution_count": 26,
      "outputs": [
        {
          "output_type": "error",
          "ename": "TypeError",
          "evalue": "'set' object is not subscriptable",
          "traceback": [
            "\u001b[0;31m---------------------------------------------------------------------------\u001b[0m",
            "\u001b[0;31mTypeError\u001b[0m                                 Traceback (most recent call last)",
            "\u001b[0;32m<ipython-input-26-617802d1befe>\u001b[0m in \u001b[0;36m<cell line: 2>\u001b[0;34m()\u001b[0m\n\u001b[1;32m      1\u001b[0m \u001b[0;31m#set does not support indexing\u001b[0m\u001b[0;34m\u001b[0m\u001b[0;34m\u001b[0m\u001b[0m\n\u001b[0;32m----> 2\u001b[0;31m \u001b[0mprint\u001b[0m\u001b[0;34m(\u001b[0m\u001b[0mmy_set\u001b[0m\u001b[0;34m[\u001b[0m\u001b[0;36m2\u001b[0m\u001b[0;34m]\u001b[0m\u001b[0;34m)\u001b[0m\u001b[0;34m\u001b[0m\u001b[0;34m\u001b[0m\u001b[0m\n\u001b[0m",
            "\u001b[0;31mTypeError\u001b[0m: 'set' object is not subscriptable"
          ]
        }
      ]
    },
    {
      "cell_type": "code",
      "source": [
        "# conerting a list to a setmy_lius\n",
        "my_list = [4,5,6,7]\n",
        "\n",
        "x = set(list_5)\n",
        "print(x)\n"
      ],
      "metadata": {
        "colab": {
          "base_uri": "https://localhost:8080/"
        },
        "id": "RUTith3GKKQ4",
        "outputId": "391db3d4-ee4c-43e5-dc4f-ef27bed00f35"
      },
      "execution_count": 27,
      "outputs": [
        {
          "output_type": "stream",
          "name": "stdout",
          "text": [
            "{1, 2, 3, 4, 5, 6, 7, 8, 9, 10}\n"
          ]
        }
      ]
    },
    {
      "cell_type": "code",
      "source": [
        "# set does not allow duplicate values i.e.\n",
        "my_set = {1,23,44,4,4,4,2,2,3,4,5,5}\n",
        "print(my_set)"
      ],
      "metadata": {
        "colab": {
          "base_uri": "https://localhost:8080/"
        },
        "id": "45keSlgSKpBX",
        "outputId": "1fed08ea-e861-4191-9a24-8515b53d4b0d"
      },
      "execution_count": 28,
      "outputs": [
        {
          "output_type": "stream",
          "name": "stdout",
          "text": [
            "{1, 2, 3, 4, 5, 23, 44}\n"
          ]
        }
      ]
    },
    {
      "cell_type": "markdown",
      "source": [
        "Dictionary"
      ],
      "metadata": {
        "id": "SvqdRffVX6qr"
      }
    },
    {
      "cell_type": "markdown",
      "source": [
        "Key-Value Pair"
      ],
      "metadata": {
        "id": "6Dc7Fv6tX8aq"
      }
    },
    {
      "cell_type": "code",
      "source": [
        "my_dictionary = {'name':'Rodrique', 'age':'24', 'country':'Canada'}\n",
        "print(my_dictionary)\n",
        "type(my_dictionary)"
      ],
      "metadata": {
        "colab": {
          "base_uri": "https://localhost:8080/"
        },
        "id": "IpTQP6p4X3rC",
        "outputId": "4bbc5d46-6eb9-45e8-b8b5-2c39cd155dfb"
      },
      "execution_count": 32,
      "outputs": [
        {
          "output_type": "stream",
          "name": "stdout",
          "text": [
            "{'name': 'Rodrique', 'age': '24', 'country': 'Canada'}\n"
          ]
        },
        {
          "output_type": "execute_result",
          "data": {
            "text/plain": [
              "dict"
            ]
          },
          "metadata": {},
          "execution_count": 32
        }
      ]
    },
    {
      "cell_type": "code",
      "source": [
        "print(my_dictionary['name'])\n",
        "print(my_dictionary['age'])\n",
        "print(my_dictionary['country'])"
      ],
      "metadata": {
        "colab": {
          "base_uri": "https://localhost:8080/"
        },
        "id": "dKTS7mG-YfIy",
        "outputId": "9f0d9935-2379-4aa2-ed5c-373daf048995"
      },
      "execution_count": 33,
      "outputs": [
        {
          "output_type": "stream",
          "name": "stdout",
          "text": [
            "Rodrique\n",
            "24\n",
            "Canada\n"
          ]
        }
      ]
    },
    {
      "cell_type": "code",
      "source": [
        "# dictionaries do not have duplicate values\n",
        "dictionary_2 = {'name':'Rodrique', 'age':'24', 'country':'Canada','name':'Rodrique', 'age':'24', 'country':'Canada'}\n",
        "print(dictionary_2)\n"
      ],
      "metadata": {
        "colab": {
          "base_uri": "https://localhost:8080/"
        },
        "id": "waqW6T2XYtsm",
        "outputId": "1e5805ce-a64b-4706-ec98-79d28cadc0d7"
      },
      "execution_count": 35,
      "outputs": [
        {
          "output_type": "stream",
          "name": "stdout",
          "text": [
            "{'name': 'Rodrique', 'age': '24', 'country': 'Canada'}\n"
          ]
        }
      ]
    },
    {
      "cell_type": "code",
      "source": [],
      "metadata": {
        "id": "ZNEZa396ZGqR"
      },
      "execution_count": null,
      "outputs": []
    }
  ]
}