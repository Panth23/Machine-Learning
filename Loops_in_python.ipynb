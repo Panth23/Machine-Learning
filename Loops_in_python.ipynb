{
  "nbformat": 4,
  "nbformat_minor": 0,
  "metadata": {
    "colab": {
      "provenance": [],
      "authorship_tag": "ABX9TyPVZfbhn5u6smTqu1YgUK20",
      "include_colab_link": true
    },
    "kernelspec": {
      "name": "python3",
      "display_name": "Python 3"
    },
    "language_info": {
      "name": "python"
    }
  },
  "cells": [
    {
      "cell_type": "markdown",
      "metadata": {
        "id": "view-in-github",
        "colab_type": "text"
      },
      "source": [
        "<a href=\"https://colab.research.google.com/github/Panth23/Machine-Learning/blob/main/Loops_in_python.ipynb\" target=\"_parent\"><img src=\"https://colab.research.google.com/assets/colab-badge.svg\" alt=\"Open In Colab\"/></a>"
      ]
    },
    {
      "cell_type": "markdown",
      "source": [
        "For loop"
      ],
      "metadata": {
        "id": "t_H8qhNgxSxs"
      }
    },
    {
      "cell_type": "code",
      "execution_count": 1,
      "metadata": {
        "colab": {
          "base_uri": "https://localhost:8080/"
        },
        "id": "rNS8DWepxQYN",
        "outputId": "f4407fea-a4df-40a1-a897-557ca31c77db"
      },
      "outputs": [
        {
          "name": "stdout",
          "output_type": "stream",
          "text": [
            "Enter the price of the laptop : 1000\n",
            "Enter the price of the laptop : 1200\n",
            "Enter the price of the laptop : 999\n",
            "Enter the price of the laptop : 1799\n",
            "Enter the price of the laptop : 1599\n"
          ]
        }
      ],
      "source": [
        "for i in range(5):   # 0, 1, 2, 3, 4\n",
        "  laptop_price = int(input('Enter the price of the laptop : '))   # 0, 1, 2, 3, 4\n",
        ""
      ]
    },
    {
      "cell_type": "code",
      "source": [
        "numbers = [100,200,300,400]\n",
        "\n",
        "for i in numbers:\n",
        "  print(i)"
      ],
      "metadata": {
        "colab": {
          "base_uri": "https://localhost:8080/"
        },
        "id": "jeYGu3TkxzDN",
        "outputId": "015acbe9-5aa6-45bb-d930-52c649d51acf"
      },
      "execution_count": 2,
      "outputs": [
        {
          "output_type": "stream",
          "name": "stdout",
          "text": [
            "100\n",
            "200\n",
            "300\n",
            "400\n"
          ]
        }
      ]
    },
    {
      "cell_type": "markdown",
      "source": [
        "While Loop"
      ],
      "metadata": {
        "id": "-GzZmbPHyMtj"
      }
    },
    {
      "cell_type": "code",
      "source": [
        "i = 0\n",
        "while i<10:\n",
        "  print(i)\n",
        "  i+=1"
      ],
      "metadata": {
        "colab": {
          "base_uri": "https://localhost:8080/"
        },
        "id": "b_x0Fk02yKWc",
        "outputId": "1a8ff4d3-703b-4d60-98b3-a375d9b1c3d5"
      },
      "execution_count": 7,
      "outputs": [
        {
          "output_type": "stream",
          "name": "stdout",
          "text": [
            "0\n",
            "1\n",
            "2\n",
            "3\n",
            "4\n",
            "5\n",
            "6\n",
            "7\n",
            "8\n",
            "9\n"
          ]
        }
      ]
    },
    {
      "cell_type": "code",
      "source": [],
      "metadata": {
        "id": "SWJSgrHZyWia"
      },
      "execution_count": null,
      "outputs": []
    }
  ]
}