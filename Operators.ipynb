{
  "nbformat": 4,
  "nbformat_minor": 0,
  "metadata": {
    "colab": {
      "provenance": [],
      "collapsed_sections": [
        "7GpZ5Ygzdjrr",
        "vffd9RMZfNdU",
        "JYFyFNaggGCT",
        "7t74W67cgr_q",
        "NjXg24KAjUEY",
        "gS9ed5zEk-0E"
      ],
      "authorship_tag": "ABX9TyNHHjA5Fobab1HCUBIdttGs",
      "include_colab_link": true
    },
    "kernelspec": {
      "name": "python3",
      "display_name": "Python 3"
    },
    "language_info": {
      "name": "python"
    }
  },
  "cells": [
    {
      "cell_type": "markdown",
      "metadata": {
        "id": "view-in-github",
        "colab_type": "text"
      },
      "source": [
        "<a href=\"https://colab.research.google.com/github/Panth23/Machine-Learning/blob/main/Operators.ipynb\" target=\"_parent\"><img src=\"https://colab.research.google.com/assets/colab-badge.svg\" alt=\"Open In Colab\"/></a>"
      ]
    },
    {
      "cell_type": "markdown",
      "source": [
        "#Arithmetic Operators"
      ],
      "metadata": {
        "id": "7GpZ5Ygzdjrr"
      }
    },
    {
      "cell_type": "code",
      "execution_count": 1,
      "metadata": {
        "colab": {
          "base_uri": "https://localhost:8080/"
        },
        "id": "56XjGZvAZpJO",
        "outputId": "08550191-0942-45e0-ef0a-566f7b9c4e76"
      },
      "outputs": [
        {
          "output_type": "stream",
          "name": "stdout",
          "text": [
            "sum =  30\n",
            "subtraction =  10\n",
            "multiplication 200\n",
            "division 2.0\n",
            "exponent =  10240000000000\n",
            "modulus 0\n"
          ]
        }
      ],
      "source": [
        "num_1 = 20\n",
        "num_2 = 10\n",
        "\n",
        "#addition\n",
        "sum = num_1+num_2\n",
        "print(\"sum = \",sum)\n",
        "\n",
        "#subtraction\n",
        "sub = num_1 - num_2\n",
        "print(\"subtraction = \",sub)\n",
        "\n",
        "#multiplication\n",
        "multi = num_1*num_2\n",
        "print(\"multiplication\",multi)\n",
        "\n",
        "#division\n",
        "div = num_1/num_2\n",
        "print(\"division\",div)\n",
        "\n",
        "#exponent\n",
        "exp = num_1**num_2\n",
        "print(\"exponent = \",exp)\n",
        "\n",
        "#modulus\n",
        "mod = num_1%num_2\n",
        "print(\"modulus\",mod)"
      ]
    },
    {
      "cell_type": "markdown",
      "source": [
        "#Assignment Operators"
      ],
      "metadata": {
        "id": "vffd9RMZfNdU"
      }
    },
    {
      "cell_type": "code",
      "source": [
        "a = 5\n",
        "b = 2\n",
        "b +=a\n",
        "print(b)\n",
        "b -=a\n",
        "print(b)\n",
        "b *=a\n",
        "print(b)\n",
        "\n",
        "# same for mod , div, exp"
      ],
      "metadata": {
        "colab": {
          "base_uri": "https://localhost:8080/"
        },
        "id": "mpm6KcrMfA7o",
        "outputId": "2b25d769-c7ee-4f6a-aa8e-0139e605dd31"
      },
      "execution_count": 2,
      "outputs": [
        {
          "output_type": "stream",
          "name": "stdout",
          "text": [
            "7\n",
            "2\n",
            "10\n"
          ]
        }
      ]
    },
    {
      "cell_type": "markdown",
      "source": [
        "#Comparision Operators"
      ],
      "metadata": {
        "id": "JYFyFNaggGCT"
      }
    },
    {
      "cell_type": "code",
      "source": [
        "# it returns boolan value\n",
        "a = 5\n",
        "b = 10\n",
        "\n",
        "print(a==b)\n",
        "print(a<=b)\n",
        "print(a>=b)\n",
        "print(a!=b)\n",
        "print(a<b)\n",
        "print(a>b)"
      ],
      "metadata": {
        "colab": {
          "base_uri": "https://localhost:8080/"
        },
        "id": "nqPfZwuYf8zM",
        "outputId": "85f09468-5260-4c4d-8a0f-a75490e91881"
      },
      "execution_count": 3,
      "outputs": [
        {
          "output_type": "stream",
          "name": "stdout",
          "text": [
            "False\n",
            "True\n",
            "False\n",
            "True\n",
            "True\n",
            "False\n"
          ]
        }
      ]
    },
    {
      "cell_type": "markdown",
      "source": [
        "#Logical Operators"
      ],
      "metadata": {
        "id": "7t74W67cgr_q"
      }
    },
    {
      "cell_type": "code",
      "source": [
        "a = 10\n",
        "\n",
        "print( a>20 and a>5)\n",
        "print( a>20 or a>5)\n",
        "print(not(a>20 and a>5))"
      ],
      "metadata": {
        "colab": {
          "base_uri": "https://localhost:8080/"
        },
        "id": "zTaOOMGDghVW",
        "outputId": "89ac89f5-8c3d-4003-e43c-ba1ed3a13782"
      },
      "execution_count": 4,
      "outputs": [
        {
          "output_type": "stream",
          "name": "stdout",
          "text": [
            "False\n",
            "True\n",
            "True\n"
          ]
        }
      ]
    },
    {
      "cell_type": "markdown",
      "source": [
        "#Identity Operator"
      ],
      "metadata": {
        "id": "NjXg24KAjUEY"
      }
    },
    {
      "cell_type": "markdown",
      "source": [
        "is"
      ],
      "metadata": {
        "id": "qdlYsi6Gjd3s"
      }
    },
    {
      "cell_type": "markdown",
      "source": [
        "is not"
      ],
      "metadata": {
        "id": "zkc7qo-9jgeh"
      }
    },
    {
      "cell_type": "code",
      "source": [
        "x = 5\n",
        "y = 5\n",
        "\n",
        "print(x is y)"
      ],
      "metadata": {
        "colab": {
          "base_uri": "https://localhost:8080/"
        },
        "id": "rFUqiEiTjZBE",
        "outputId": "749d33ee-312a-436e-f09b-be8cdb66e161"
      },
      "execution_count": 7,
      "outputs": [
        {
          "output_type": "stream",
          "name": "stdout",
          "text": [
            "True\n"
          ]
        }
      ]
    },
    {
      "cell_type": "code",
      "source": [
        "x = 5\n",
        "y = 10\n",
        "\n",
        "print(x is y)"
      ],
      "metadata": {
        "colab": {
          "base_uri": "https://localhost:8080/"
        },
        "id": "91lyYVEkjnLj",
        "outputId": "23622c70-6ecb-4b3a-ebe6-680eb1664fde"
      },
      "execution_count": 6,
      "outputs": [
        {
          "output_type": "stream",
          "name": "stdout",
          "text": [
            "False\n"
          ]
        }
      ]
    },
    {
      "cell_type": "code",
      "source": [
        "x = 5\n",
        "y = 10\n",
        "\n",
        "print(x is not y)"
      ],
      "metadata": {
        "colab": {
          "base_uri": "https://localhost:8080/"
        },
        "id": "_mg6CQA_jy2G",
        "outputId": "92000709-877f-4a6f-ed28-be53a3e947cb"
      },
      "execution_count": 8,
      "outputs": [
        {
          "output_type": "stream",
          "name": "stdout",
          "text": [
            "True\n"
          ]
        }
      ]
    },
    {
      "cell_type": "markdown",
      "source": [
        "#Membership Operator"
      ],
      "metadata": {
        "id": "gS9ed5zEk-0E"
      }
    },
    {
      "cell_type": "markdown",
      "source": [
        "in"
      ],
      "metadata": {
        "id": "J5pYP9eWlXnh"
      }
    },
    {
      "cell_type": "markdown",
      "source": [
        "not in"
      ],
      "metadata": {
        "id": "uwO_GayhlZBu"
      }
    },
    {
      "cell_type": "code",
      "source": [
        "a = 5\n",
        "b = 10\n",
        "\n",
        "c  =[1,3,4,5,6]\n",
        "print(a in c)\n",
        "print(b in c)\n",
        "\n",
        "print(a not in c)\n",
        "print(b not in c)"
      ],
      "metadata": {
        "colab": {
          "base_uri": "https://localhost:8080/"
        },
        "id": "j6yIElSVlQTN",
        "outputId": "452eb4a2-b353-41d8-951f-67a68c61b170"
      },
      "execution_count": 9,
      "outputs": [
        {
          "output_type": "stream",
          "name": "stdout",
          "text": [
            "True\n",
            "False\n",
            "False\n",
            "True\n"
          ]
        }
      ]
    }
  ]
}