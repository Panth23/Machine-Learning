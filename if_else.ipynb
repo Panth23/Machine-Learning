{
  "nbformat": 4,
  "nbformat_minor": 0,
  "metadata": {
    "colab": {
      "provenance": [],
      "authorship_tag": "ABX9TyNVywY2yUGy5Wl7ifI/Us+Z",
      "include_colab_link": true
    },
    "kernelspec": {
      "name": "python3",
      "display_name": "Python 3"
    },
    "language_info": {
      "name": "python"
    }
  },
  "cells": [
    {
      "cell_type": "markdown",
      "metadata": {
        "id": "view-in-github",
        "colab_type": "text"
      },
      "source": [
        "<a href=\"https://colab.research.google.com/github/Panth23/Machine-Learning/blob/main/if_else.ipynb\" target=\"_parent\"><img src=\"https://colab.research.google.com/assets/colab-badge.svg\" alt=\"Open In Colab\"/></a>"
      ]
    },
    {
      "cell_type": "markdown",
      "source": [
        "if-else"
      ],
      "metadata": {
        "id": "8xIqMjUouMbY"
      }
    },
    {
      "cell_type": "code",
      "execution_count": 1,
      "metadata": {
        "colab": {
          "base_uri": "https://localhost:8080/"
        },
        "id": "AZi06MpPn0Yf",
        "outputId": "98b7aa0a-f4b4-4f1b-db78-12670ad04a9f"
      },
      "outputs": [
        {
          "output_type": "stream",
          "name": "stdout",
          "text": [
            "the second number is greater\n"
          ]
        }
      ],
      "source": [
        "a = 5\n",
        "b = 10\n",
        "if(a>b):\n",
        "  print(\"the first number is greater\")\n",
        "else:\n",
        "  print(\"the second number is greater\")\n"
      ]
    },
    {
      "cell_type": "markdown",
      "source": [
        "elif"
      ],
      "metadata": {
        "id": "xESG5s0aum75"
      }
    },
    {
      "cell_type": "code",
      "source": [
        "a = 10\n",
        "b = 10\n",
        "if(a>b):\n",
        "  print(\"the first number is greater\")\n",
        "elif(a==b):\n",
        "  print(\"both are equal\")\n",
        "else:\n",
        "  print(\"the second number is greater\")"
      ],
      "metadata": {
        "colab": {
          "base_uri": "https://localhost:8080/"
        },
        "id": "fcxlmJejuhky",
        "outputId": "7a164122-e298-45b8-dce3-f9ad417fd5ba"
      },
      "execution_count": 3,
      "outputs": [
        {
          "output_type": "stream",
          "name": "stdout",
          "text": [
            "both are equal\n"
          ]
        }
      ]
    },
    {
      "cell_type": "markdown",
      "source": [
        "Nested if-else"
      ],
      "metadata": {
        "id": "dExOTToVu0ki"
      }
    },
    {
      "cell_type": "code",
      "source": [
        "a = 12\n",
        "b = 22\n",
        "c = 23\n",
        "if(a>b):\n",
        "  if(a>c):\n",
        "    print(\"a is the greatest number\")\n",
        "  else:\n",
        "    print(\"b is the greatest number\")\n",
        "else:\n",
        "  if(b>c):\n",
        "    print(\"b is the greatest number\")\n",
        "  else:\n",
        "    print(\"c is the greatest number\")\n"
      ],
      "metadata": {
        "colab": {
          "base_uri": "https://localhost:8080/"
        },
        "id": "r4DkkdbLuwgE",
        "outputId": "f8e1f073-a1a0-4729-cd6e-bf15e4a71cd1"
      },
      "execution_count": 5,
      "outputs": [
        {
          "output_type": "stream",
          "name": "stdout",
          "text": [
            "c is the greatest number\n"
          ]
        }
      ]
    },
    {
      "cell_type": "code",
      "source": [],
      "metadata": {
        "id": "VaVUJotWw2hg"
      },
      "execution_count": null,
      "outputs": []
    }
  ]
}